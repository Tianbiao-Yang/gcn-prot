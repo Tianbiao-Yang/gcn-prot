{
 "cells": [
  {
   "cell_type": "markdown",
   "metadata": {},
   "source": [
    "# Normalized Graph Convolutional Neural Network\n",
    "This notebook shows the training process of a GCN using the KrasHras dataset from [Zamora-Resendiz and Crivelli, 2019](https://www.biorxiv.org/content/10.1101/610444v1.full). This GCN contains two kind of layers: GraphConvolution and NormalizationLayer. The data was subjected to augmentation to balance the classes in the dataset."
   ]
  },
  {
   "cell_type": "code",
   "execution_count": 1,
   "metadata": {},
   "outputs": [],
   "source": [
    "import gcn_prot\n",
    "import torch\n",
    "\n",
    "import torch.nn.functional as F\n",
    "from os.path import join, pardir\n",
    "from sklearn.metrics import confusion_matrix"
   ]
  },
  {
   "cell_type": "code",
   "execution_count": 2,
   "metadata": {},
   "outputs": [],
   "source": [
    "ROOT_DIR = pardir"
   ]
  },
  {
   "cell_type": "markdown",
   "metadata": {},
   "source": [
    "## Table of contents"
   ]
  },
  {
   "cell_type": "markdown",
   "metadata": {},
   "source": [
    "1. [Initialize Data](#Initialize-Data)\n",
    "2. [Define the neural network](#Define-the-neural-network)\n",
    "3. [Training loop](#Training-loop)\n",
    "4. [Validation](#Validation)"
   ]
  },
  {
   "cell_type": "markdown",
   "metadata": {},
   "source": [
    "## Initialize Data\n",
    "The data for this experiment is the one used for testing on the [CI of the repository](https://github.com/carrascomj/gcn-prot/blob/master/.travis.yml). Thus, it is already fetched.  \n",
    "\n",
    "The first step is to calculate the length of the largest protein (in number of aminoacids), since all the proteins will be zero padded to that value. That way, all the inputs fed to the model will have the same length."
   ]
  },
  {
   "cell_type": "code",
   "execution_count": 3,
   "metadata": {},
   "outputs": [
    {
     "name": "stdout",
     "output_type": "stream",
     "text": [
      "Largest protein has 189 aminoacids\n"
     ]
    }
   ],
   "source": [
    "largest = gcn_prot.data.get_longest(join(ROOT_DIR, \"new_data\", \"graph\"))\n",
    "print(f\"Largest protein has {largest} aminoacids\")"
   ]
  },
  {
   "cell_type": "markdown",
   "metadata": {},
   "source": [
    "However, for this particular dataset, it is known from the aforementioned publication that 185 is enough because the 4 terminal aminoacids were not well determined and would be later discarded by the mask."
   ]
  },
  {
   "cell_type": "code",
   "execution_count": 4,
   "metadata": {},
   "outputs": [],
   "source": [
    "largest = 185\n",
    "data_path = join(ROOT_DIR, \"new_data\")"
   ]
  },
  {
   "cell_type": "markdown",
   "metadata": {},
   "source": [
    "The split is performed with 70/10/20 for train/test/valid.  \n",
    "\n",
    "Note that the generated datasets (custom child classes of `torch.utils.data.Dataset`) do not store in memory the graphs but their paths, **generating the graph on demand when accessed by an index**."
   ]
  },
  {
   "cell_type": "code",
   "execution_count": 5,
   "metadata": {},
   "outputs": [
    {
     "name": "stdout",
     "output_type": "stream",
     "text": [
      "CLASS[COUNTS]:  0 78\n",
      "CLASS[COUNTS]:  1 158\n"
     ]
    }
   ],
   "source": [
    "train, valid, test = gcn_prot.data.get_datasets(\n",
    "    data_path=data_path,\n",
    "    nb_nodes=largest,\n",
    "    task_type=\"classification\",\n",
    "    nb_classes=2,\n",
    "    split=[0.6, 0.1, 0.3],\n",
    "    seed=42,\n",
    "    augment=3,           # data augmentation factor x3\n",
    "    augmented_label=\"0\", # augmentation will be applied just for label \"0\"\n",
    ")"
   ]
  },
  {
   "cell_type": "markdown",
   "metadata": {},
   "source": [
    "We can see how the classes are here **imbalanced** in a ~30/70 ratio. This fact explains the reason behind **data augmentation** for label \"0\"."
   ]
  },
  {
   "cell_type": "code",
   "execution_count": 6,
   "metadata": {},
   "outputs": [
    {
     "name": "stdout",
     "output_type": "stream",
     "text": [
      "Train: 221\n",
      "Test: 127\n",
      "Validation: 24\n"
     ]
    }
   ],
   "source": [
    "print(f\"Train: {len(train)}\\nTest: {len(test)}\\nValidation: {len(valid)}\")"
   ]
  },
  {
   "cell_type": "markdown",
   "metadata": {},
   "source": [
    "Both train and test datasets are subjected to the augmentation. "
   ]
  },
  {
   "cell_type": "code",
   "execution_count": 7,
   "metadata": {},
   "outputs": [
    {
     "data": {
      "text/plain": [
       "gcn_prot.data.protien_graph.ProtienGraphDataset"
      ]
     },
     "execution_count": 7,
     "metadata": {},
     "output_type": "execute_result"
    }
   ],
   "source": [
    "type(train)"
   ]
  },
  {
   "cell_type": "markdown",
   "metadata": {},
   "source": [
    "## Define the neural network"
   ]
  },
  {
   "cell_type": "markdown",
   "metadata": {},
   "source": [
    "Each instance in the dataset retrieves a list of four matrices:\n",
    "1. **feature matrix**: 29 x 185. This corresponds to the aminoacid type (one-hot encoded vector of length 23), residue depth, residue orientation and 4 features encoding the positional index with a sinusoidal transformation.\n",
    "2. **coordinates**: 3 x 185. x,y,z coordinates of every aminoacid in the crystal (centered).\n",
    "3. **mask**: to be applied to the adjacency to discard ill-identified aminoacids.\n",
    "4. **y**: 2 labels, Kras/Hras.  \n",
    "\n",
    "The transformation of this list to the input of the neural network (feature matrix, adjacency matrix), is performed during training."
   ]
  },
  {
   "cell_type": "code",
   "execution_count": 8,
   "metadata": {},
   "outputs": [],
   "source": [
    "model = gcn_prot.models.GCN_normed(\n",
    "    feats=29,             # features in feature matrix\n",
    "    hidden=[30, 20],      # number of neurons in convolutional layers (2 in this case)\n",
    "    hidden_norm=5,\n",
    "    label=2,              # features on y\n",
    "    nb_nodes=largest,     # for last layer\n",
    "    dropout=0.1,          # applied in the convolutional layers\n",
    "    bias=False,           # default\n",
    "    act=F.relu,           # default\n",
    "    D=1,\n",
    "    cuda=True             # required for sparsize and fit_network\n",
    ").cuda()"
   ]
  },
  {
   "cell_type": "markdown",
   "metadata": {},
   "source": [
    "Now, instantiate the criterion and the optimizer."
   ]
  },
  {
   "cell_type": "code",
   "execution_count": 9,
   "metadata": {},
   "outputs": [],
   "source": [
    "optimizer = torch.optim.Adam(model.parameters())\n",
    "criterion = torch.nn.CrossEntropyLoss().cuda()"
   ]
  },
  {
   "cell_type": "markdown",
   "metadata": {},
   "source": [
    "## Training loop"
   ]
  },
  {
   "cell_type": "code",
   "execution_count": 10,
   "metadata": {},
   "outputs": [],
   "source": [
    "%matplotlib inline"
   ]
  },
  {
   "cell_type": "code",
   "execution_count": 11,
   "metadata": {},
   "outputs": [
    {
     "name": "stdout",
     "output_type": "stream",
     "text": [
      "Iteration 1        "
     ]
    },
    {
     "data": {
      "image/png": "[encoded data removed]",
      "text/plain": [
       "<Figure size 432x288 with 1 Axes>"
      ]
     },
     "metadata": {
      "needs_background": "light"
     },
     "output_type": "display_data"
    },
    {
     "name": "stdout",
     "output_type": "stream",
     "text": [
      "Iteration 1        "
     ]
    },
    {
     "data": {
      "image/png": "[encoded data removed]",
      "text/plain": [
       "<Figure size 432x288 with 1 Axes>"
      ]
     },
     "metadata": {
      "needs_background": "light"
     },
     "output_type": "display_data"
    },
    {
     "name": "stdout",
     "output_type": "stream",
     "text": [
      "Iteration 1        "
     ]
    },
    {
     "data": {
      "image/png": "[encoded data removed]",
      "text/plain": [
       "<Figure size 432x288 with 1 Axes>"
      ]
     },
     "metadata": {
      "needs_background": "light"
     },
     "output_type": "display_data"
    }
   ],
   "source": [
    "save_path = join(ROOT_DIR, \"models\", \"GCN_tiny_weigths.pt\")\n",
    "model = gcn_prot.models.fit_network(\n",
    "    model, train, test, optimizer, criterion,\n",
    "    batch_size=70,   # a lot of batches per epoch\n",
    "    epochs=16,\n",
    "    debug=True,      # will print progress of epochs\n",
    "    plot_every=5,    # loss plot/epoch\n",
    "    save=save_path   # best weights (test set) will be saved here\n",
    ")"
   ]
  },
  {
   "cell_type": "markdown",
   "metadata": {},
   "source": [
    "## Validation"
   ]
  },
  {
   "cell_type": "code",
   "execution_count": 12,
   "metadata": {
    "scrolled": true
   },
   "outputs": [
    {
     "data": {
      "text/plain": [
       "{'recall': 0.8571428571428571,\n",
       " 'precision': 0.75,\n",
       " 'accuracy': 0.75,\n",
       " 'f_score': 0.7999999999999999}"
      ]
     },
     "execution_count": 12,
     "metadata": {},
     "output_type": "execute_result"
    }
   ],
   "source": [
    "validator = gcn_prot.models.Validation(model, valid)\n",
    "validator.validate()\n",
    "validator.compute_stats()"
   ]
  },
  {
   "cell_type": "code",
   "execution_count": 13,
   "metadata": {},
   "outputs": [
    {
     "data": {
      "text/latex": [
       "\\begin{table}[]\n",
       "\\centering\n",
       "\\begin{tabular}{llll}\n",
       "\\hline\n",
       "\\multicolumn{1}{|l|}{\\textbf{Recall}} & \\multicolumn{1}{l|}{\\textbf{Precision}} & \\multicolumn{1}{l|}{\\textbf{Accuracy}} & \\multicolumn{1}{l|}{\\textbf{F-score}} \\\\ \\hline\n",
       "Strain 1                              & 140                                     & 1390648                                & 149577\n",
       "\\end{tabular}\n",
       "\\caption{}\n",
       "\\label{tab:my-table}\n",
       "\\end{table}"
      ],
      "text/plain": [
       "<IPython.core.display.Latex object>"
      ]
     },
     "execution_count": 13,
     "metadata": {},
     "output_type": "execute_result"
    }
   ],
   "source": [
    "from IPython.display import Latex as lt\n",
    "\n",
    "lt(validator.__str__())"
   ]
  },
  {
   "cell_type": "code",
   "execution_count": 14,
   "metadata": {
    "scrolled": true
   },
   "outputs": [
    {
     "data": {
      "text/plain": [
       "[0, 0, 1, 1, 1, 1, 1, 1, 1, 1, 1, 1, 1, 0, 1, 0, 1, 0, 0, 1, 1, 1, 0, 0]"
      ]
     },
     "execution_count": 14,
     "metadata": {},
     "output_type": "execute_result"
    }
   ],
   "source": [
    "validator.prediction"
   ]
  }
 ],
 "metadata": {
  "kernelspec": {
   "display_name": "Python 3",
   "language": "python",
   "name": "python3"
  },
  "language_info": {
   "codemirror_mode": {
    "name": "ipython",
    "version": 3
   },
   "file_extension": ".py",
   "mimetype": "text/x-python",
   "name": "python",
   "nbconvert_exporter": "python",
   "pygments_lexer": "ipython3",
   "version": "3.6.9"
  }
 },
 "nbformat": 4,
 "nbformat_minor": 2
}
