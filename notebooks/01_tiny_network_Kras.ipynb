{
 "cells": [
  {
   "cell_type": "markdown",
   "metadata": {},
   "source": [
    "# First Graph Convolutional Neural Network\n",
    "This notebook shows a simple GCN learning using the KrasHras dataset from [Zamora-Resendiz and Crivelli, 2019](https://www.biorxiv.org/content/10.1101/610444v1.full)."
   ]
  },
  {
   "cell_type": "code",
   "execution_count": 1,
   "metadata": {},
   "outputs": [],
   "source": [
    "import gcn_prot\n",
    "import torch\n",
    "\n",
    "import torch.nn.functional as F\n",
    "from os.path import join, pardir"
   ]
  },
  {
   "cell_type": "code",
   "execution_count": 2,
   "metadata": {},
   "outputs": [],
   "source": [
    "ROOT_DIR = pardir"
   ]
  },
  {
   "cell_type": "markdown",
   "metadata": {},
   "source": [
    "## Table of contents"
   ]
  },
  {
   "cell_type": "markdown",
   "metadata": {},
   "source": [
    "1. [Initialize Data](#Initialize-Data)"
   ]
  },
  {
   "cell_type": "markdown",
   "metadata": {},
   "source": [
    "## Initialize Data\n",
    "The data for this experiment is the one used for testing on the [CI of the repository](https://github.com/carrascomj/gcn-prot/blob/master/.travis.yml). Thus, it is already fetched.  \n",
    "\n",
    "The first step is to calculate the length of the largest protein (in number of aminoacids), since all the proteins will be zero padded to that value. That way, all the inputs fed to the model will have the same length."
   ]
  },
  {
   "cell_type": "code",
   "execution_count": 3,
   "metadata": {},
   "outputs": [
    {
     "name": "stdout",
     "output_type": "stream",
     "text": [
      "Largets protein has 189 aminoacids\n"
     ]
    }
   ],
   "source": [
    "largest = gcn_prot.data.get_longest(join(ROOT_DIR, \"new_data\", \"graph\"))\n",
    "print(f\"Largets protein has {largest} aminoacids\")"
   ]
  },
  {
   "cell_type": "markdown",
   "metadata": {},
   "source": [
    "However, for this particular dataset, it is known from the aforementioned publication that 185 is enough because the 4 terminal aminoacids were not well determined and would be later discarded by the mask."
   ]
  },
  {
   "cell_type": "code",
   "execution_count": 4,
   "metadata": {},
   "outputs": [],
   "source": [
    "largest = 185\n",
    "data_path = join(ROOT_DIR, \"new_data\")"
   ]
  },
  {
   "cell_type": "markdown",
   "metadata": {},
   "source": [
    "The split is performed with 70/10/20 for train/test/valid.  \n",
    "\n",
    "Note that the generated datasets (custom child classes of `torch.utils.data.Dataset`) doesn't stored the graphs in memory but their paths, generating the graph when accessed by an index."
   ]
  },
  {
   "cell_type": "code",
   "execution_count": 5,
   "metadata": {},
   "outputs": [
    {
     "name": "stdout",
     "output_type": "stream",
     "text": [
      "CLASS[COUNTS]:  0 78\n",
      "CLASS[COUNTS]:  1 158\n"
     ]
    }
   ],
   "source": [
    "train, test, valid = gcn_prot.data.get_datasets(\n",
    "    data_path=data_path,\n",
    "    nb_nodes=largest,\n",
    "    task_type=\"classification\",\n",
    "    nb_classes=2,\n",
    "    split=[0.7, 0.1, 0.2],\n",
    "    seed=42,\n",
    ")"
   ]
  },
  {
   "cell_type": "code",
   "execution_count": 6,
   "metadata": {},
   "outputs": [
    {
     "name": "stdout",
     "output_type": "stream",
     "text": [
      "Train: 164\n",
      "Test: 24\n",
      "Validation: 48\n"
     ]
    }
   ],
   "source": [
    "print(f\"Train: {len(train)}\\nTest: {len(test)}\\nValidation: {len(valid)}\")"
   ]
  },
  {
   "cell_type": "code",
   "execution_count": 7,
   "metadata": {},
   "outputs": [
    {
     "data": {
      "text/plain": [
       "gcn_prot.data.protien_graph.ProtienGraphDataset"
      ]
     },
     "execution_count": 7,
     "metadata": {},
     "output_type": "execute_result"
    }
   ],
   "source": [
    "type(train)"
   ]
  },
  {
   "cell_type": "markdown",
   "metadata": {},
   "source": [
    "## Define the neural network"
   ]
  },
  {
   "cell_type": "markdown",
   "metadata": {},
   "source": [
    "Each instance in the dataset retrieves a list of four matrices:\n",
    "1. **feature matrix**: 29 x 185. This corresponds to the aminoacid type (one-hot encoded vector of length 23), residue depth, residue orientation and 4 features encoding the positional index with a sinusoidal transformation.\n",
    "2. **coordinates**: 3 x 185. x,y,z coordinates of every aminoacid in the crystal (centered).\n",
    "3. **mask**: to be applied to the adjacency to discard ill-identified aminoacids.\n",
    "4. **y**: 2 label, Kras/Hras.  \n",
    "\n",
    "The transformation of this list to the input of the neural network (feature matrix, adjacency matrix), is performed during training."
   ]
  },
  {
   "cell_type": "code",
   "execution_count": 8,
   "metadata": {},
   "outputs": [],
   "source": [
    "model = gcn_prot.models.GCN_simple(\n",
    "    feats=29,             # features in feature matrix\n",
    "    hidden=[30, 30],      # number of neurons in convolutional layers (2 in this case)\n",
    "    label=2,              # features on y\n",
    "    nb_nodes=largest,     # for last layer\n",
    "    dropout=0,            # applied in the convolutional layers\n",
    "    bias=False,           # default\n",
    "    act=F.relu,           # default\n",
    "    cuda=True             # required for sparsize and fit_network\n",
    ").cuda()"
   ]
  },
  {
   "cell_type": "markdown",
   "metadata": {},
   "source": [
    "Now, instantiate the criterion and the optimizer."
   ]
  },
  {
   "cell_type": "code",
   "execution_count": 9,
   "metadata": {},
   "outputs": [],
   "source": [
    "optimizer = torch.optim.Adam(model.parameters())\n",
    "criterion = torch.nn.CrossEntropyLoss().cuda()"
   ]
  },
  {
   "cell_type": "markdown",
   "metadata": {},
   "source": [
    "## Train the network"
   ]
  },
  {
   "cell_type": "code",
   "execution_count": 10,
   "metadata": {},
   "outputs": [],
   "source": [
    "%matplotlib inline"
   ]
  },
  {
   "cell_type": "code",
   "execution_count": 11,
   "metadata": {},
   "outputs": [
    {
     "name": "stdout",
     "output_type": "stream",
     "text": [
      "Iteration 1        "
     ]
    },
    {
     "data": {
      "image/png": "[encoded data removed]",
      "text/plain": [
       "<Figure size 432x288 with 1 Axes>"
      ]
     },
     "metadata": {
      "needs_background": "light"
     },
     "output_type": "display_data"
    },
    {
     "name": "stdout",
     "output_type": "stream",
     "text": [
      "Iteration 1        "
     ]
    },
    {
     "data": {
      "image/png": "[encoded data removed]",
      "text/plain": [
       "<Figure size 432x288 with 1 Axes>"
      ]
     },
     "metadata": {
      "needs_background": "light"
     },
     "output_type": "display_data"
    },
    {
     "name": "stdout",
     "output_type": "stream",
     "text": [
      "Iteration 1        "
     ]
    },
    {
     "data": {
      "image/png": "[encoded data removed]",
      "text/plain": [
       "<Figure size 432x288 with 1 Axes>"
      ]
     },
     "metadata": {
      "needs_background": "light"
     },
     "output_type": "display_data"
    },
    {
     "name": "stdout",
     "output_type": "stream",
     "text": [
      "Iteration 1        "
     ]
    }
   ],
   "source": [
    "save_path = join(ROOT_DIR, \"models\", \"GCN_tiny_weigths.pt\")\n",
    "model = gcn_prot.models.fit_network(\n",
    "    model, train, test, optimizer, criterion, \n",
    "    batch_size=20,    # a lot of batches per epoch\n",
    "    epochs=20,\n",
    "    debug=True,      # will print progress of epochs\n",
    "    plot_every=5,    # loss plot/epoch\n",
    "    save=save_path   # best weights (test set) will be saved here\n",
    ")"
   ]
  },
  {
   "cell_type": "markdown",
   "metadata": {},
   "source": [
    "Debug with validation."
   ]
  },
  {
   "cell_type": "code",
   "execution_count": 12,
   "metadata": {},
   "outputs": [],
   "source": [
    "model = gcn_prot.models.GCN_simple(\n",
    "    feats=29,             # features in feature matrix\n",
    "    hidden=[30, 30],      # number of neurons in convolutional layers (2 in this case)\n",
    "    label=2,              # features on y\n",
    "    nb_nodes=largest,     # for last layer\n",
    "    dropout=0,            # applied in the convolutional layers\n",
    "    bias=False,           # default\n",
    "    act=F.relu,           # default\n",
    "    cuda=True             # required for sparsize and fit_network\n",
    ").cuda()"
   ]
  },
  {
   "cell_type": "code",
   "execution_count": 13,
   "metadata": {},
   "outputs": [],
   "source": [
    "optimizer = torch.optim.Adam(model.parameters())\n",
    "criterion = torch.nn.CrossEntropyLoss().cuda()"
   ]
  },
  {
   "cell_type": "code",
   "execution_count": 14,
   "metadata": {},
   "outputs": [
    {
     "name": "stdout",
     "output_type": "stream",
     "text": [
      "(tensor([[ 30570.4688, -49921.9492]], device='cuda:0', grad_fn=<AddmmBackward>), tensor([1], device='cuda:0'))\n",
      "(tensor([[  6158.4033, -11166.6963]], device='cuda:0', grad_fn=<AddmmBackward>), tensor([0], device='cuda:0'))\n",
      "(tensor([[  5367.4341, -12924.3047]], device='cuda:0', grad_fn=<AddmmBackward>), tensor([0], device='cuda:0'))\n",
      "(tensor([[ 4548.7964, -7796.9907]], device='cuda:0', grad_fn=<AddmmBackward>), tensor([1], device='cuda:0'))\n",
      "(tensor([[ 6058.0581, -8547.0039]], device='cuda:0', grad_fn=<AddmmBackward>), tensor([1], device='cuda:0'))\n",
      "(tensor([[  6763.1562, -10757.5566]], device='cuda:0', grad_fn=<AddmmBackward>), tensor([1], device='cuda:0'))\n",
      "(tensor([[-667.0015, -367.8102]], device='cuda:0', grad_fn=<AddmmBackward>), tensor([0], device='cuda:0'))\n",
      "(tensor([[  6473.4233, -10171.8730]], device='cuda:0', grad_fn=<AddmmBackward>), tensor([1], device='cuda:0'))\n",
      "(tensor([[nan, nan]], device='cuda:0', grad_fn=<AddmmBackward>), tensor([1], device='cuda:0'))\n",
      "(tensor([[nan, nan]], device='cuda:0', grad_fn=<AddmmBackward>), tensor([1], device='cuda:0'))\n",
      "(tensor([[nan, nan]], device='cuda:0', grad_fn=<AddmmBackward>), tensor([0], device='cuda:0'))\n",
      "(tensor([[  6504.8457, -10203.4404]], device='cuda:0', grad_fn=<AddmmBackward>), tensor([1], device='cuda:0'))\n",
      "(tensor([[  611.2417, -3518.6289]], device='cuda:0', grad_fn=<AddmmBackward>), tensor([0], device='cuda:0'))\n",
      "(tensor([[ 6478.1104, -7174.6943]], device='cuda:0', grad_fn=<AddmmBackward>), tensor([1], device='cuda:0'))\n",
      "(tensor([[  982.3004, -1249.5474]], device='cuda:0', grad_fn=<AddmmBackward>), tensor([0], device='cuda:0'))\n",
      "(tensor([[  4942.9424, -10424.2861]], device='cuda:0', grad_fn=<AddmmBackward>), tensor([1], device='cuda:0'))\n",
      "(tensor([[ 5520.5464, -8574.7959]], device='cuda:0', grad_fn=<AddmmBackward>), tensor([1], device='cuda:0'))\n",
      "(tensor([[  6410.3794, -10051.1846]], device='cuda:0', grad_fn=<AddmmBackward>), tensor([1], device='cuda:0'))\n",
      "(tensor([[-664.1183, -365.6496]], device='cuda:0', grad_fn=<AddmmBackward>), tensor([0], device='cuda:0'))\n",
      "(tensor([[  6460.7251, -10147.8340]], device='cuda:0', grad_fn=<AddmmBackward>), tensor([1], device='cuda:0'))\n",
      "(tensor([[nan, nan]], device='cuda:0', grad_fn=<AddmmBackward>), tensor([0], device='cuda:0'))\n",
      "(tensor([[nan, nan]], device='cuda:0', grad_fn=<AddmmBackward>), tensor([1], device='cuda:0'))\n",
      "(tensor([[ 4955.2998, -8375.4336]], device='cuda:0', grad_fn=<AddmmBackward>), tensor([1], device='cuda:0'))\n",
      "(tensor([[  6505.0850, -10129.5078]], device='cuda:0', grad_fn=<AddmmBackward>), tensor([1], device='cuda:0'))\n",
      "(tensor([[ 1375.3240, -1306.6642]], device='cuda:0', grad_fn=<AddmmBackward>), tensor([0], device='cuda:0'))\n",
      "(tensor([[-359.2732, -369.2838]], device='cuda:0', grad_fn=<AddmmBackward>), tensor([1], device='cuda:0'))\n",
      "(tensor([[nan, nan]], device='cuda:0', grad_fn=<AddmmBackward>), tensor([1], device='cuda:0'))\n",
      "(tensor([[  6125.7339, -11033.7793]], device='cuda:0', grad_fn=<AddmmBackward>), tensor([0], device='cuda:0'))\n",
      "(tensor([[ 6181.1040, -9698.5527]], device='cuda:0', grad_fn=<AddmmBackward>), tensor([1], device='cuda:0'))\n",
      "(tensor([[ 6168.9536, -9685.0527]], device='cuda:0', grad_fn=<AddmmBackward>), tensor([1], device='cuda:0'))\n",
      "(tensor([[-2.8505e+12, -4.9975e+11]], device='cuda:0', grad_fn=<AddmmBackward>), tensor([1], device='cuda:0'))\n",
      "(tensor([[  6461.7549, -10151.5391]], device='cuda:0', grad_fn=<AddmmBackward>), tensor([1], device='cuda:0'))\n",
      "(tensor([[ 983.4723, -119.2180]], device='cuda:0', grad_fn=<AddmmBackward>), tensor([1], device='cuda:0'))\n",
      "(tensor([[ 5044.6523, -5231.9536]], device='cuda:0', grad_fn=<AddmmBackward>), tensor([1], device='cuda:0'))\n",
      "(tensor([[  6444.1006, -10119.8809]], device='cuda:0', grad_fn=<AddmmBackward>), tensor([1], device='cuda:0'))\n",
      "(tensor([[-2391.3086,  1252.4769]], device='cuda:0', grad_fn=<AddmmBackward>), tensor([0], device='cuda:0'))\n",
      "(tensor([[-4446.3369,  1298.8856]], device='cuda:0', grad_fn=<AddmmBackward>), tensor([0], device='cuda:0'))\n",
      "(tensor([[ 3513.6560, -6108.8745]], device='cuda:0', grad_fn=<AddmmBackward>), tensor([1], device='cuda:0'))\n",
      "(tensor([[ 1367.3319, -1901.4712]], device='cuda:0', grad_fn=<AddmmBackward>), tensor([0], device='cuda:0'))\n",
      "(tensor([[  5504.3926, -10482.9336]], device='cuda:0', grad_fn=<AddmmBackward>), tensor([0], device='cuda:0'))\n",
      "(tensor([[  6495.7915, -13458.7998]], device='cuda:0', grad_fn=<AddmmBackward>), tensor([0], device='cuda:0'))\n",
      "(tensor([[ 2827.0454, -1366.7880]], device='cuda:0', grad_fn=<AddmmBackward>), tensor([0], device='cuda:0'))\n",
      "(tensor([[  5202.7280, -11465.9902]], device='cuda:0', grad_fn=<AddmmBackward>), tensor([1], device='cuda:0'))\n",
      "(tensor([[ 4369.8125, -9808.2793]], device='cuda:0', grad_fn=<AddmmBackward>), tensor([1], device='cuda:0'))\n",
      "(tensor([[  287.5483, -1157.5680]], device='cuda:0', grad_fn=<AddmmBackward>), tensor([0], device='cuda:0'))\n",
      "(tensor([[-2115.3914,  -401.0132]], device='cuda:0', grad_fn=<AddmmBackward>), tensor([0], device='cuda:0'))\n",
      "(tensor([[ 2810.8948, -5930.1621]], device='cuda:0', grad_fn=<AddmmBackward>), tensor([1], device='cuda:0'))\n",
      "(tensor([[  8846.1709, -14455.3945]], device='cuda:0', grad_fn=<AddmmBackward>), tensor([1], device='cuda:0'))\n"
     ]
    }
   ],
   "source": [
    "model.eval()\n",
    "for batch in torch.utils.data.DataLoader(\n",
    "        valid, shuffle=False, batch_size=1, drop_last=False\n",
    "    ):\n",
    "    print(gcn_prot.models.train.forward_step(batch, model, False))"
   ]
  },
  {
   "cell_type": "markdown",
   "metadata": {},
   "source": [
    "It can be seen that some `NaN`s are produced during the forward pass. This produces the loss to be also `NaN`. A method of dealing with NaN should be included for the loss."
   ]
  }
 ],
 "metadata": {
  "kernelspec": {
   "display_name": "Python 3",
   "language": "python",
   "name": "python3"
  },
  "language_info": {
   "codemirror_mode": {
    "name": "ipython",
    "version": 3
   },
   "file_extension": ".py",
   "mimetype": "text/x-python",
   "name": "python",
   "nbconvert_exporter": "python",
   "pygments_lexer": "ipython3",
   "version": "3.6.9"
  }
 },
 "nbformat": 4,
 "nbformat_minor": 2
}
